{
 "cells": [
  {
   "cell_type": "code",
   "execution_count": 9,
   "metadata": {
    "collapsed": true
   },
   "outputs": [],
   "source": [
    "import pandas as pd,geopandas as gpd,numpy as np"
   ]
  },
  {
   "cell_type": "code",
   "execution_count": 24,
   "metadata": {
    "collapsed": true
   },
   "outputs": [],
   "source": [
    "cities = pd.read_csv('US_Reg.csv')\n",
    "cities = cities[cities['Flag.CBSA.availability']==1][['CBSA','CBSA.Name']]\n",
    "cities = pd.merge(cities,pd.read_csv(\"US_RegYr.csv\")[['CBSA','pop.2010','gdp.2015','emp.2015','pat.2000','pub.2010']].drop_duplicates(),how='left')\n",
    "cities['CBSA'] = cities['CBSA'].astype(str)\n",
    "\n",
    "patch = [('31080','31100'),\n",
    "         ('29200','29140'),\n",
    "         ('42200','42060'),\n",
    "         ('48260','44600'),\n",
    "         ('14010','14060')]\n",
    "for new,old in patch:\n",
    "    cities.loc[cities['CBSA']==old,'CBSA']=new\n",
    " \n",
    "msa = gpd.read_file('SHP/cb_2016_us_cbsa_500k.shp')\n",
    "msa = pd.merge(cities.rename(columns={'CBSA':\"CBSAFP\"}),msa,how='left')\n",
    "for col in ['pop.2010','gdp.2015','emp.2015','pat.2000','pub.2010']:\n",
    "    msa[col] = msa.fillna(0)[col]\n",
    "    msa['log.'+col] = np.log10(msa.fillna(0)[col])\n",
    "msa = msa[['CBSAFP','CBSA.Name','pop.2010','gdp.2015','emp.2015','pat.2000','pub.2010','log.pop.2010','log.gdp.2015','log.emp.2015','log.pat.2000','log.pub.2010','geometry']].rename(columns={'CBSAFP':'CBSA'})\n",
    "msa = gpd.GeoDataFrame(msa.drop('geometry',1),geometry=msa['geometry'])"
   ]
  },
  {
   "cell_type": "code",
   "execution_count": 25,
   "metadata": {
    "collapsed": true
   },
   "outputs": [],
   "source": [
    "cones = gpd.GeoDataFrame(msa.drop('geometry',1),geometry=[g.centroid for g in msa['geometry']])\n",
    "\n",
    "top = 7\n",
    "for col in ['pop.2010','gdp.2015','emp.2015','pat.2000','pub.2010']:\n",
    "    cones['Label.'+col.split('.')[0]] = cones['CBSA.Name']\n",
    "    keep = set(cones.sort_values(by=col,ascending=False)['CBSA'].values.tolist()[:top])\n",
    "    cones.loc[~cones['CBSA'].isin(keep),'Label.'+col.split('.')[0]] = ''\n",
    "\n",
    "cones = gpd.GeoDataFrame(cones.drop('geometry',1),geometry=cones['geometry'].values.tolist())"
   ]
  },
  {
   "cell_type": "code",
   "execution_count": 26,
   "metadata": {
    "collapsed": true
   },
   "outputs": [],
   "source": [
    "max_height = 1500000\n",
    "for col in ['pop.2010','gdp.2015','emp.2015','pat.2000','pub.2010']:\n",
    "    col_max = cones[col].max()\n",
    "    cones[col.split('.')[0]+'.height'] = (max_height*cones[col]/col_max).round()\n",
    "    cones[col.split('.')[0]+'.label.height'] = (max_height*cones[col]/col_max).round()"
   ]
  },
  {
   "cell_type": "code",
   "execution_count": null,
   "metadata": {
    "collapsed": true
   },
   "outputs": [],
   "source": []
  },
  {
   "cell_type": "code",
   "execution_count": 27,
   "metadata": {
    "collapsed": true
   },
   "outputs": [],
   "source": [
    "msa.to_file('MSA.shp')\n",
    "cones.to_file('cones.shp')"
   ]
  },
  {
   "cell_type": "code",
   "execution_count": null,
   "metadata": {
    "collapsed": true
   },
   "outputs": [],
   "source": []
  },
  {
   "cell_type": "code",
   "execution_count": 187,
   "metadata": {},
   "outputs": [],
   "source": [
    "def prettyfiNum(n, base = 10,mode='center'):\n",
    "    if base > 1:\n",
    "        for i in range(1,10):\n",
    "            if (n<=base**i)&(n>base**(i-1)):\n",
    "                break\n",
    "    else:\n",
    "        raise NameError('Not supported')\n",
    "    r = np.linspace(base**(i-1),base**i,base**2-base+1)\n",
    "    if mode=='min':\n",
    "        r = r[r<=n]\n",
    "    elif mode=='max':\n",
    "        r = r[r>=n]\n",
    "    diff = r-n\n",
    "    return r[np.argmin((abs(diff)))]\n",
    "\n",
    "def prettyfiList(x):\n",
    "    out = [prettyfiNum(x[0],mode='min')]\n",
    "    for i in x[1:-1]:\n",
    "        out.append(prettyfiNum(i))\n",
    "    out.append(prettyfiNum(x[-1],mode='max'))\n",
    "    return out\n",
    "\n",
    "n_cones = 7\n",
    "lat = 35\n",
    "lonStart = -65\n",
    "deltaLon = 1\n",
    "\n",
    "from shapely.geometry import Point\n",
    "for col in ['gdp.2015','emp.2015','pat.2000','pub.2010']:\n",
    "    col_max = cones[col].max()\n",
    "    geo = [Point(lonStart,lat+i*deltaLon) for i in range(n_cones)]\n",
    "    legendValues = np.linspace(cones[col].min(),cones[col].max(),n_cones).tolist()\n",
    "    legendValues = prettyfiList(legendValues)\n",
    "    legendHeight = [round(max_height*val/col_max) for val in legendValues]\n",
    "    legendValues = [str(int(round(val))) for val in legendValues]\n",
    "    legend = gpd.GeoDataFrame(zip(legendValues,legendHeight),columns=['Label','height'],geometry=geo)\n",
    "    legend.to_file('legend/'+col+'_legend.shp')"
   ]
  },
  {
   "cell_type": "code",
   "execution_count": null,
   "metadata": {
    "collapsed": true
   },
   "outputs": [],
   "source": []
  }
 ],
 "metadata": {
  "kernelspec": {
   "display_name": "global",
   "language": "python",
   "name": "global"
  },
  "language_info": {
   "codemirror_mode": {
    "name": "ipython",
    "version": 2
   },
   "file_extension": ".py",
   "mimetype": "text/x-python",
   "name": "python",
   "nbconvert_exporter": "python",
   "pygments_lexer": "ipython2",
   "version": "2.7.10"
  }
 },
 "nbformat": 4,
 "nbformat_minor": 2
}
